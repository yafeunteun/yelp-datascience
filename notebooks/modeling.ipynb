{
 "cells": [
  {
   "cell_type": "markdown",
   "metadata": {},
   "source": [
    "## Import required libraries"
   ]
  },
  {
   "cell_type": "code",
   "execution_count": 2,
   "metadata": {
    "collapsed": true
   },
   "outputs": [],
   "source": [
    "import pandas as pd\n",
    "from sklearn.ensemble import RandomForestClassifier\n",
    "from sklearn.ensemble import GradientBoostingClassifier\n",
    "from sklearn.svm import SVC\n",
    "from sklearn.naive_bayes import GaussianNB\n",
    "from sklearn.metrics import precision_recall_fscore_support"
   ]
  },
  {
   "cell_type": "markdown",
   "metadata": {},
   "source": [
    "## Load train and test data"
   ]
  },
  {
   "cell_type": "code",
   "execution_count": 3,
   "metadata": {
    "collapsed": false
   },
   "outputs": [],
   "source": [
    "df_train = pd.read_csv(\"./train.csv\", sep=\";\")\n",
    "df_test = pd.read_csv(\"./test.csv\", sep=\";\")"
   ]
  },
  {
   "cell_type": "code",
   "execution_count": 4,
   "metadata": {
    "collapsed": false
   },
   "outputs": [
    {
     "data": {
      "text/html": [
       "<div>\n",
       "<table border=\"1\" class=\"dataframe\">\n",
       "  <thead>\n",
       "    <tr style=\"text-align: right;\">\n",
       "      <th></th>\n",
       "      <th>back_try</th>\n",
       "      <th>not_good</th>\n",
       "      <th>i_have_to</th>\n",
       "      <th>about_place</th>\n",
       "      <th>portions</th>\n",
       "      <th>come_back</th>\n",
       "      <th>the_food</th>\n",
       "      <th>that_it_was</th>\n",
       "      <th>really_like</th>\n",
       "      <th>food_just</th>\n",
       "      <th>...</th>\n",
       "      <th>to_choose_from</th>\n",
       "      <th>will_definitely</th>\n",
       "      <th>IsFoodGood</th>\n",
       "      <th>IsServiceGood</th>\n",
       "      <th>IsAmbianceGood</th>\n",
       "      <th>IsDealsGood</th>\n",
       "      <th>IsPriceGood</th>\n",
       "      <th>IsRatingBad</th>\n",
       "      <th>IsRatingModerate</th>\n",
       "      <th>IsRatingGood</th>\n",
       "    </tr>\n",
       "  </thead>\n",
       "  <tbody>\n",
       "    <tr>\n",
       "      <th>0</th>\n",
       "      <td>0</td>\n",
       "      <td>0</td>\n",
       "      <td>1</td>\n",
       "      <td>0</td>\n",
       "      <td>0</td>\n",
       "      <td>0</td>\n",
       "      <td>0</td>\n",
       "      <td>0</td>\n",
       "      <td>0</td>\n",
       "      <td>0</td>\n",
       "      <td>...</td>\n",
       "      <td>0</td>\n",
       "      <td>0</td>\n",
       "      <td>0</td>\n",
       "      <td>1</td>\n",
       "      <td>0</td>\n",
       "      <td>0</td>\n",
       "      <td>1</td>\n",
       "      <td>0</td>\n",
       "      <td>0</td>\n",
       "      <td>1</td>\n",
       "    </tr>\n",
       "    <tr>\n",
       "      <th>1</th>\n",
       "      <td>0</td>\n",
       "      <td>0</td>\n",
       "      <td>0</td>\n",
       "      <td>0</td>\n",
       "      <td>0</td>\n",
       "      <td>0</td>\n",
       "      <td>0</td>\n",
       "      <td>0</td>\n",
       "      <td>0</td>\n",
       "      <td>0</td>\n",
       "      <td>...</td>\n",
       "      <td>0</td>\n",
       "      <td>0</td>\n",
       "      <td>0</td>\n",
       "      <td>0</td>\n",
       "      <td>1</td>\n",
       "      <td>1</td>\n",
       "      <td>0</td>\n",
       "      <td>0</td>\n",
       "      <td>1</td>\n",
       "      <td>0</td>\n",
       "    </tr>\n",
       "    <tr>\n",
       "      <th>2</th>\n",
       "      <td>0</td>\n",
       "      <td>0</td>\n",
       "      <td>0</td>\n",
       "      <td>0</td>\n",
       "      <td>0</td>\n",
       "      <td>1</td>\n",
       "      <td>0</td>\n",
       "      <td>0</td>\n",
       "      <td>0</td>\n",
       "      <td>0</td>\n",
       "      <td>...</td>\n",
       "      <td>0</td>\n",
       "      <td>0</td>\n",
       "      <td>0</td>\n",
       "      <td>0</td>\n",
       "      <td>0</td>\n",
       "      <td>0</td>\n",
       "      <td>0</td>\n",
       "      <td>1</td>\n",
       "      <td>0</td>\n",
       "      <td>0</td>\n",
       "    </tr>\n",
       "    <tr>\n",
       "      <th>3</th>\n",
       "      <td>0</td>\n",
       "      <td>0</td>\n",
       "      <td>0</td>\n",
       "      <td>0</td>\n",
       "      <td>0</td>\n",
       "      <td>0</td>\n",
       "      <td>0</td>\n",
       "      <td>0</td>\n",
       "      <td>0</td>\n",
       "      <td>0</td>\n",
       "      <td>...</td>\n",
       "      <td>0</td>\n",
       "      <td>1</td>\n",
       "      <td>0</td>\n",
       "      <td>0</td>\n",
       "      <td>1</td>\n",
       "      <td>0</td>\n",
       "      <td>1</td>\n",
       "      <td>0</td>\n",
       "      <td>0</td>\n",
       "      <td>0</td>\n",
       "    </tr>\n",
       "    <tr>\n",
       "      <th>4</th>\n",
       "      <td>0</td>\n",
       "      <td>0</td>\n",
       "      <td>0</td>\n",
       "      <td>0</td>\n",
       "      <td>0</td>\n",
       "      <td>0</td>\n",
       "      <td>0</td>\n",
       "      <td>0</td>\n",
       "      <td>0</td>\n",
       "      <td>0</td>\n",
       "      <td>...</td>\n",
       "      <td>0</td>\n",
       "      <td>0</td>\n",
       "      <td>0</td>\n",
       "      <td>1</td>\n",
       "      <td>0</td>\n",
       "      <td>0</td>\n",
       "      <td>1</td>\n",
       "      <td>0</td>\n",
       "      <td>1</td>\n",
       "      <td>0</td>\n",
       "    </tr>\n",
       "  </tbody>\n",
       "</table>\n",
       "<p>5 rows × 676 columns</p>\n",
       "</div>"
      ],
      "text/plain": [
       "   back_try  not_good  i_have_to  about_place  portions  come_back  the_food  \\\n",
       "0         0         0          1            0         0          0         0   \n",
       "1         0         0          0            0         0          0         0   \n",
       "2         0         0          0            0         0          1         0   \n",
       "3         0         0          0            0         0          0         0   \n",
       "4         0         0          0            0         0          0         0   \n",
       "\n",
       "   that_it_was  really_like  food_just      ...       to_choose_from  \\\n",
       "0            0            0          0      ...                    0   \n",
       "1            0            0          0      ...                    0   \n",
       "2            0            0          0      ...                    0   \n",
       "3            0            0          0      ...                    0   \n",
       "4            0            0          0      ...                    0   \n",
       "\n",
       "   will_definitely  IsFoodGood  IsServiceGood  IsAmbianceGood  IsDealsGood  \\\n",
       "0                0           0              1               0            0   \n",
       "1                0           0              0               1            1   \n",
       "2                0           0              0               0            0   \n",
       "3                1           0              0               1            0   \n",
       "4                0           0              1               0            0   \n",
       "\n",
       "   IsPriceGood  IsRatingBad  IsRatingModerate  IsRatingGood  \n",
       "0            1            0                 0             1  \n",
       "1            0            0                 1             0  \n",
       "2            0            1                 0             0  \n",
       "3            1            0                 0             0  \n",
       "4            1            0                 1             0  \n",
       "\n",
       "[5 rows x 676 columns]"
      ]
     },
     "execution_count": 4,
     "metadata": {},
     "output_type": "execute_result"
    }
   ],
   "source": [
    "df_train.head()"
   ]
  },
  {
   "cell_type": "code",
   "execution_count": 5,
   "metadata": {
    "collapsed": false
   },
   "outputs": [
    {
     "data": {
      "text/html": [
       "<div>\n",
       "<table border=\"1\" class=\"dataframe\">\n",
       "  <thead>\n",
       "    <tr style=\"text-align: right;\">\n",
       "      <th></th>\n",
       "      <th>back_try</th>\n",
       "      <th>not_good</th>\n",
       "      <th>i_have_to</th>\n",
       "      <th>about_place</th>\n",
       "      <th>portions</th>\n",
       "      <th>come_back</th>\n",
       "      <th>the_food</th>\n",
       "      <th>that_it_was</th>\n",
       "      <th>really_like</th>\n",
       "      <th>food_just</th>\n",
       "      <th>...</th>\n",
       "      <th>to_choose_from</th>\n",
       "      <th>will_definitely</th>\n",
       "      <th>IsFoodGood</th>\n",
       "      <th>IsServiceGood</th>\n",
       "      <th>IsAmbianceGood</th>\n",
       "      <th>IsDealsGood</th>\n",
       "      <th>IsPriceGood</th>\n",
       "      <th>IsRatingBad</th>\n",
       "      <th>IsRatingModerate</th>\n",
       "      <th>IsRatingGood</th>\n",
       "    </tr>\n",
       "  </thead>\n",
       "  <tbody>\n",
       "    <tr>\n",
       "      <th>0</th>\n",
       "      <td>0</td>\n",
       "      <td>0</td>\n",
       "      <td>0</td>\n",
       "      <td>0</td>\n",
       "      <td>0</td>\n",
       "      <td>0</td>\n",
       "      <td>0</td>\n",
       "      <td>0</td>\n",
       "      <td>0</td>\n",
       "      <td>0</td>\n",
       "      <td>...</td>\n",
       "      <td>1</td>\n",
       "      <td>0</td>\n",
       "      <td>1</td>\n",
       "      <td>1</td>\n",
       "      <td>1</td>\n",
       "      <td>0</td>\n",
       "      <td>1</td>\n",
       "      <td>0</td>\n",
       "      <td>0</td>\n",
       "      <td>0</td>\n",
       "    </tr>\n",
       "    <tr>\n",
       "      <th>1</th>\n",
       "      <td>0</td>\n",
       "      <td>0</td>\n",
       "      <td>0</td>\n",
       "      <td>0</td>\n",
       "      <td>0</td>\n",
       "      <td>0</td>\n",
       "      <td>0</td>\n",
       "      <td>0</td>\n",
       "      <td>0</td>\n",
       "      <td>0</td>\n",
       "      <td>...</td>\n",
       "      <td>0</td>\n",
       "      <td>0</td>\n",
       "      <td>0</td>\n",
       "      <td>1</td>\n",
       "      <td>0</td>\n",
       "      <td>0</td>\n",
       "      <td>0</td>\n",
       "      <td>0</td>\n",
       "      <td>0</td>\n",
       "      <td>0</td>\n",
       "    </tr>\n",
       "    <tr>\n",
       "      <th>2</th>\n",
       "      <td>0</td>\n",
       "      <td>0</td>\n",
       "      <td>0</td>\n",
       "      <td>0</td>\n",
       "      <td>0</td>\n",
       "      <td>0</td>\n",
       "      <td>0</td>\n",
       "      <td>0</td>\n",
       "      <td>0</td>\n",
       "      <td>0</td>\n",
       "      <td>...</td>\n",
       "      <td>0</td>\n",
       "      <td>0</td>\n",
       "      <td>0</td>\n",
       "      <td>0</td>\n",
       "      <td>0</td>\n",
       "      <td>0</td>\n",
       "      <td>1</td>\n",
       "      <td>1</td>\n",
       "      <td>0</td>\n",
       "      <td>0</td>\n",
       "    </tr>\n",
       "    <tr>\n",
       "      <th>3</th>\n",
       "      <td>0</td>\n",
       "      <td>0</td>\n",
       "      <td>0</td>\n",
       "      <td>0</td>\n",
       "      <td>0</td>\n",
       "      <td>0</td>\n",
       "      <td>0</td>\n",
       "      <td>0</td>\n",
       "      <td>0</td>\n",
       "      <td>0</td>\n",
       "      <td>...</td>\n",
       "      <td>0</td>\n",
       "      <td>0</td>\n",
       "      <td>1</td>\n",
       "      <td>0</td>\n",
       "      <td>1</td>\n",
       "      <td>1</td>\n",
       "      <td>1</td>\n",
       "      <td>0</td>\n",
       "      <td>0</td>\n",
       "      <td>1</td>\n",
       "    </tr>\n",
       "    <tr>\n",
       "      <th>4</th>\n",
       "      <td>0</td>\n",
       "      <td>0</td>\n",
       "      <td>0</td>\n",
       "      <td>0</td>\n",
       "      <td>0</td>\n",
       "      <td>0</td>\n",
       "      <td>0</td>\n",
       "      <td>0</td>\n",
       "      <td>0</td>\n",
       "      <td>0</td>\n",
       "      <td>...</td>\n",
       "      <td>0</td>\n",
       "      <td>0</td>\n",
       "      <td>0</td>\n",
       "      <td>0</td>\n",
       "      <td>0</td>\n",
       "      <td>0</td>\n",
       "      <td>0</td>\n",
       "      <td>0</td>\n",
       "      <td>1</td>\n",
       "      <td>0</td>\n",
       "    </tr>\n",
       "  </tbody>\n",
       "</table>\n",
       "<p>5 rows × 676 columns</p>\n",
       "</div>"
      ],
      "text/plain": [
       "   back_try  not_good  i_have_to  about_place  portions  come_back  the_food  \\\n",
       "0         0         0          0            0         0          0         0   \n",
       "1         0         0          0            0         0          0         0   \n",
       "2         0         0          0            0         0          0         0   \n",
       "3         0         0          0            0         0          0         0   \n",
       "4         0         0          0            0         0          0         0   \n",
       "\n",
       "   that_it_was  really_like  food_just      ...       to_choose_from  \\\n",
       "0            0            0          0      ...                    1   \n",
       "1            0            0          0      ...                    0   \n",
       "2            0            0          0      ...                    0   \n",
       "3            0            0          0      ...                    0   \n",
       "4            0            0          0      ...                    0   \n",
       "\n",
       "   will_definitely  IsFoodGood  IsServiceGood  IsAmbianceGood  IsDealsGood  \\\n",
       "0                0           1              1               1            0   \n",
       "1                0           0              1               0            0   \n",
       "2                0           0              0               0            0   \n",
       "3                0           1              0               1            1   \n",
       "4                0           0              0               0            0   \n",
       "\n",
       "   IsPriceGood  IsRatingBad  IsRatingModerate  IsRatingGood  \n",
       "0            1            0                 0             0  \n",
       "1            0            0                 0             0  \n",
       "2            1            1                 0             0  \n",
       "3            1            0                 0             1  \n",
       "4            0            0                 1             0  \n",
       "\n",
       "[5 rows x 676 columns]"
      ]
     },
     "execution_count": 5,
     "metadata": {},
     "output_type": "execute_result"
    }
   ],
   "source": [
    "df_test.head()"
   ]
  },
  {
   "cell_type": "code",
   "execution_count": 6,
   "metadata": {
    "collapsed": false
   },
   "outputs": [
    {
     "name": "stdout",
     "output_type": "stream",
     "text": [
      "8846\n",
      "1960\n"
     ]
    }
   ],
   "source": [
    "print len(df_train)\n",
    "print len(df_test)"
   ]
  },
  {
   "cell_type": "markdown",
   "metadata": {},
   "source": [
    "## Select feature columns"
   ]
  },
  {
   "cell_type": "code",
   "execution_count": 7,
   "metadata": {
    "collapsed": false
   },
   "outputs": [
    {
     "data": {
      "text/plain": [
       "Index([u'back_try', u'not_good', u'i_have_to', u'about_place', u'portions',\n",
       "       u'come_back', u'the_food', u'that_it_was', u'really_like', u'food_just',\n",
       "       ...\n",
       "       u'really_liked', u'the_happy_hour', u'will_definitely_be',\n",
       "       u'the_bar_area', u'about_this_place', u'chinese_food', u'the_food_was',\n",
       "       u'and_they_were', u'to_choose_from', u'will_definitely'],\n",
       "      dtype='object', length=668)"
      ]
     },
     "execution_count": 7,
     "metadata": {},
     "output_type": "execute_result"
    }
   ],
   "source": [
    "features = df_train.columns\n",
    "features = features[:-8]\n",
    "features"
   ]
  },
  {
   "cell_type": "code",
   "execution_count": 8,
   "metadata": {
    "collapsed": false
   },
   "outputs": [],
   "source": [
    "X_train = df_train[features]\n",
    "X_test = df_test[features]"
   ]
  },
  {
   "cell_type": "markdown",
   "metadata": {},
   "source": [
    "## Select target columns"
   ]
  },
  {
   "cell_type": "code",
   "execution_count": 9,
   "metadata": {
    "collapsed": false
   },
   "outputs": [],
   "source": [
    "targets = [\"IsFoodGood\", \"IsServiceGood\", \"IsAmbianceGood\", \"IsPriceGood\"]"
   ]
  },
  {
   "cell_type": "markdown",
   "metadata": {},
   "source": [
    "## Train and Run models "
   ]
  },
  {
   "cell_type": "markdown",
   "metadata": {},
   "source": [
    "### Defining models "
   ]
  },
  {
   "cell_type": "code",
   "execution_count": 10,
   "metadata": {
    "collapsed": true
   },
   "outputs": [],
   "source": [
    "models = [dict(), dict(), dict(), dict()]\n",
    "models[0][\"model\"] = RandomForestClassifier()\n",
    "models[0][\"name\"] = \"RandomForestClassifier\"\n",
    "models[1][\"model\"] = GradientBoostingClassifier()\n",
    "models[1][\"name\"] = \"GradientBoostingClassifier\"\n",
    "models[2][\"model\"] = SVC()\n",
    "models[2][\"name\"] = \"SVC\"\n",
    "models[3][\"model\"] = GaussianNB()\n",
    "models[3][\"name\"] = \"GaussianNB\""
   ]
  },
  {
   "cell_type": "markdown",
   "metadata": {},
   "source": [
    "### Adding model parametes"
   ]
  },
  {
   "cell_type": "code",
   "execution_count": 11,
   "metadata": {
    "collapsed": false
   },
   "outputs": [],
   "source": [
    "for model in models : \n",
    "    model[\"params\"] = model[\"model\"].get_params()"
   ]
  },
  {
   "cell_type": "markdown",
   "metadata": {},
   "source": [
    "### Training models"
   ]
  },
  {
   "cell_type": "code",
   "execution_count": 12,
   "metadata": {
    "collapsed": false
   },
   "outputs": [
    {
     "name": "stderr",
     "output_type": "stream",
     "text": [
      "/opt/ds/local/lib/python2.7/site-packages/sklearn/metrics/classification.py:1074: UndefinedMetricWarning: Precision and F-score are ill-defined and being set to 0.0 due to no predicted samples.\n",
      "  'precision', 'predicted', average, warn_for)\n"
     ]
    }
   ],
   "source": [
    "for model in models : \n",
    "    for category in targets : \n",
    "        y_true = df_test[category]\n",
    "        y_train = df_train[category]\n",
    "        y_test = df_test[category]\n",
    "        \n",
    "        model[\"model\"].fit(X_train, y_train)\n",
    "        y_pred = model[\"model\"].predict(X_test)\n",
    "        model[\"metrics_for_\" + category] = precision_recall_fscore_support(y_true, y_pred, average='binary')\n",
    "    mean_precision = 0.0\n",
    "    mean_recall = 0.0\n",
    "    for category in targets : \n",
    "        mean_precision += model[\"metrics_for_\" + category][0]\n",
    "        mean_recall += model[\"metrics_for_\" + category][1]\n",
    "    model[\"mean_precision\"] = mean_precision / len(targets)\n",
    "    model[\"mean_recall\"] = mean_recall / len(targets)"
   ]
  },
  {
   "cell_type": "markdown",
   "metadata": {},
   "source": [
    "## Evaluation"
   ]
  },
  {
   "cell_type": "raw",
   "metadata": {},
   "source": [
    "The precision is the ratio tp / (tp + fp) where tp is the number of true positives and fp the number of false positives. The precision is intuitively the ability of the classifier not to label as positive a sample that is negative."
   ]
  },
  {
   "cell_type": "raw",
   "metadata": {},
   "source": [
    "The recall is the ratio tp / (tp + fn) where tp is the number of true positives and fn the number of false negatives. The recall is intuitively the ability of the classifier to find all the positive samples."
   ]
  },
  {
   "cell_type": "raw",
   "metadata": {},
   "source": []
  },
  {
   "cell_type": "code",
   "execution_count": 13,
   "metadata": {
    "collapsed": false
   },
   "outputs": [
    {
     "name": "stdout",
     "output_type": "stream",
     "text": [
      "RandomForestClassifier\n",
      "\tPrecision: 0.70\n",
      "\tRecall: 0.47\n",
      "\n",
      "\n",
      "GradientBoostingClassifier\n",
      "\tPrecision: 0.74\n",
      "\tRecall: 0.54\n",
      "\n",
      "\n",
      "SVC\n",
      "\tPrecision: 0.58\n",
      "\tRecall: 0.35\n",
      "\n",
      "\n",
      "GaussianNB\n",
      "\tPrecision: 0.61\n",
      "\tRecall: 0.55\n",
      "\n",
      "\n"
     ]
    }
   ],
   "source": [
    "for model in models: \n",
    "    print \"%s\\n\\tPrecision: %.2f\\n\\tRecall: %.2f\\n\\n\" % (model[\"name\"],  model[\"mean_precision\"], model[\"mean_recall\"])"
   ]
  },
  {
   "cell_type": "markdown",
   "metadata": {
    "collapsed": true
   },
   "source": [
    "## Persist models "
   ]
  },
  {
   "cell_type": "code",
   "execution_count": 14,
   "metadata": {
    "collapsed": false
   },
   "outputs": [
    {
     "data": {
      "text/plain": [
       "['models/models.pkl',\n",
       " 'models/models.pkl_01.npy',\n",
       " 'models/models.pkl_02.npy',\n",
       " 'models/models.pkl_03.npy',\n",
       " 'models/models.pkl_04.npy',\n",
       " 'models/models.pkl_05.npy',\n",
       " 'models/models.pkl_06.npy',\n",
       " 'models/models.pkl_07.npy',\n",
       " 'models/models.pkl_08.npy',\n",
       " 'models/models.pkl_09.npy',\n",
       " 'models/models.pkl_10.npy',\n",
       " 'models/models.pkl_11.npy',\n",
       " 'models/models.pkl_12.npy',\n",
       " 'models/models.pkl_13.npy',\n",
       " 'models/models.pkl_14.npy',\n",
       " 'models/models.pkl_15.npy',\n",
       " 'models/models.pkl_16.npy',\n",
       " 'models/models.pkl_17.npy',\n",
       " 'models/models.pkl_18.npy',\n",
       " 'models/models.pkl_19.npy',\n",
       " 'models/models.pkl_20.npy',\n",
       " 'models/models.pkl_21.npy',\n",
       " 'models/models.pkl_22.npy',\n",
       " 'models/models.pkl_23.npy',\n",
       " 'models/models.pkl_24.npy',\n",
       " 'models/models.pkl_25.npy',\n",
       " 'models/models.pkl_26.npy',\n",
       " 'models/models.pkl_27.npy',\n",
       " 'models/models.pkl_28.npy',\n",
       " 'models/models.pkl_29.npy',\n",
       " 'models/models.pkl_30.npy',\n",
       " 'models/models.pkl_31.npy',\n",
       " 'models/models.pkl_32.npy',\n",
       " 'models/models.pkl_33.npy',\n",
       " 'models/models.pkl_34.npy',\n",
       " 'models/models.pkl_35.npy',\n",
       " 'models/models.pkl_36.npy',\n",
       " 'models/models.pkl_37.npy',\n",
       " 'models/models.pkl_38.npy',\n",
       " 'models/models.pkl_39.npy',\n",
       " 'models/models.pkl_40.npy',\n",
       " 'models/models.pkl_41.npy',\n",
       " 'models/models.pkl_42.npy',\n",
       " 'models/models.pkl_43.npy',\n",
       " 'models/models.pkl_44.npy',\n",
       " 'models/models.pkl_45.npy',\n",
       " 'models/models.pkl_46.npy',\n",
       " 'models/models.pkl_47.npy',\n",
       " 'models/models.pkl_48.npy',\n",
       " 'models/models.pkl_49.npy',\n",
       " 'models/models.pkl_50.npy',\n",
       " 'models/models.pkl_51.npy',\n",
       " 'models/models.pkl_52.npy',\n",
       " 'models/models.pkl_53.npy',\n",
       " 'models/models.pkl_54.npy',\n",
       " 'models/models.pkl_55.npy',\n",
       " 'models/models.pkl_56.npy',\n",
       " 'models/models.pkl_57.npy',\n",
       " 'models/models.pkl_58.npy',\n",
       " 'models/models.pkl_59.npy',\n",
       " 'models/models.pkl_60.npy']"
      ]
     },
     "execution_count": 14,
     "metadata": {},
     "output_type": "execute_result"
    }
   ],
   "source": [
    "from sklearn.externals import joblib\n",
    "joblib.dump(models, 'models/models.pkl') "
   ]
  }
 ],
 "metadata": {
  "kernelspec": {
   "display_name": "Python 2",
   "language": "python",
   "name": "python2"
  },
  "language_info": {
   "codemirror_mode": {
    "name": "ipython",
    "version": 2
   },
   "file_extension": ".py",
   "mimetype": "text/x-python",
   "name": "python",
   "nbconvert_exporter": "python",
   "pygments_lexer": "ipython2",
   "version": "2.7.6"
  }
 },
 "nbformat": 4,
 "nbformat_minor": 0
}
